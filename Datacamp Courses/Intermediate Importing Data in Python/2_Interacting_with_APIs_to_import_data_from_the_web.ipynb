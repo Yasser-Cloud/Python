{
  "nbformat": 4,
  "nbformat_minor": 0,
  "metadata": {
    "colab": {
      "name": "2- Interacting with APIs to import data from the web.ipynb",
      "provenance": [],
      "collapsed_sections": []
    },
    "kernelspec": {
      "name": "python3",
      "display_name": "Python 3"
    },
    "language_info": {
      "name": "python"
    }
  },
  "cells": [
    {
      "cell_type": "markdown",
      "metadata": {
        "id": "5x45T15U6LV4"
      },
      "source": [
        "## Loading and exploring a JSON\n",
        "\n",
        "Now that you know what a JSON is, you'll load one into your Python environment and explore it yourself. Here, you'll load the JSON 'a_movie.json' into the variable json_data, which will be a dictionary. You'll then explore the JSON contents by printing the key-value pairs of json_data to the shell."
      ]
    },
    {
      "cell_type": "code",
      "metadata": {
        "colab": {
          "base_uri": "https://localhost:8080/"
        },
        "id": "whzZ-cJz6LiA",
        "outputId": "faeeda42-1077-4a5f-e233-0ebc456f1dd4"
      },
      "source": [
        "# Load JSON: json_data\n",
        "import json \n",
        "with open(\"a_movie.json\") as json_file:\n",
        "    json_data= json.load(json_file)\n",
        "\n",
        "# Print each key-value pair in json_data\n",
        "for k in json_data.keys():\n",
        "    print(k + ': ', json_data[k])"
      ],
      "execution_count": 9,
      "outputs": [
        {
          "output_type": "stream",
          "text": [
            "Actors:  Samuel L. Jackson, Julianna Margulies, Nathan Phillips,  Rachel Blanchard\n",
            "Awards:  3 wins & 7 nominations.\n",
            "Country:  Germany, USA, Canada\n",
            "Director:  David R. Ellis\n",
            "Genre:  Action, Adventure, Crime\n",
            "Language:  English\n",
            "Rated:  R\n",
            "Released:  18 Aug 2006\n",
            "Runtime:  105 min\n",
            "Title:  Snakes on a Plane\n",
            "Type:  movie\n",
            "Writer:  John Heffernan (screenplay), Sebastian Gutierrez (screenplay),   David Dalessandro (story), John Heffernan (story)\n",
            "Year:  2006\n",
            "imdbID:  tt0417148\n",
            "imdbRating:  5.6\n",
            "imdbVotes:  114,668\n"
          ],
          "name": "stdout"
        }
      ]
    },
    {
      "cell_type": "markdown",
      "metadata": {
        "id": "pN0HF6vg6L0h"
      },
      "source": [
        "## API requests\n",
        "\n",
        "Now it's your turn to pull some movie data down from the Open Movie Database (OMDB) using their API. The movie you'll query the API about is The Social Network. Recall that, in the video, to query the API about the movie Hackers, Hugo's query string was 'http://www.omdbapi.com/?t=hackers' and had a single argument t=hackers.\n",
        "\n",
        "Note: recently, OMDB has changed their API: you now also have to specify an API key. This means you'll have to add another argument to the URL: apikey=72bc447a."
      ]
    },
    {
      "cell_type": "code",
      "metadata": {
        "colab": {
          "base_uri": "https://localhost:8080/"
        },
        "id": "vWQyNsWB6L_B",
        "outputId": "c6de9580-8422-4cbf-dcd8-dd633db9bb08"
      },
      "source": [
        "# Import requests package\n",
        "import requests\n",
        "\n",
        "# Assign URL to variable: url\n",
        "url = 'http://www.omdbapi.com/?apikey=72bc447a&t=the+social+network'\n",
        "\n",
        "# Package the request, send the request and catch the response: r\n",
        "r = requests.get(url)\n",
        "\n",
        "# Print the text of the response\n",
        "print(r.text)\n"
      ],
      "execution_count": 10,
      "outputs": [
        {
          "output_type": "stream",
          "text": [
            "{\"Title\":\"The Social Network\",\"Year\":\"2010\",\"Rated\":\"PG-13\",\"Released\":\"01 Oct 2010\",\"Runtime\":\"120 min\",\"Genre\":\"Biography, Drama\",\"Director\":\"David Fincher\",\"Writer\":\"Aaron Sorkin, Ben Mezrich\",\"Actors\":\"Jesse Eisenberg, Andrew Garfield, Justin Timberlake\",\"Plot\":\"As Harvard student Mark Zuckerberg creates the social networking site that would become known as Facebook, he is sued by the twins who claimed he stole their idea, and by the co-founder who was later squeezed out of the business.\",\"Language\":\"English, French\",\"Country\":\"United States\",\"Awards\":\"Won 3 Oscars. 172 wins & 186 nominations total\",\"Poster\":\"https://m.media-amazon.com/images/M/MV5BOGUyZDUxZjEtMmIzMC00MzlmLTg4MGItZWJmMzBhZjE0Mjc1XkEyXkFqcGdeQXVyMTMxODk2OTU@._V1_SX300.jpg\",\"Ratings\":[{\"Source\":\"Internet Movie Database\",\"Value\":\"7.7/10\"},{\"Source\":\"Rotten Tomatoes\",\"Value\":\"96%\"},{\"Source\":\"Metacritic\",\"Value\":\"95/100\"}],\"Metascore\":\"95\",\"imdbRating\":\"7.7\",\"imdbVotes\":\"645,042\",\"imdbID\":\"tt1285016\",\"Type\":\"movie\",\"DVD\":\"05 Jun 2012\",\"BoxOffice\":\"$96,962,694\",\"Production\":\"Scott Rudin Productions, Trigger Street Productions, Michael De Luca\",\"Website\":\"N/A\",\"Response\":\"True\"}\n"
          ],
          "name": "stdout"
        }
      ]
    },
    {
      "cell_type": "markdown",
      "metadata": {
        "id": "2-FR0Ge6NHi2"
      },
      "source": [
        "## JSON–from the web to Python\n",
        "\n",
        "Wow, congrats! You've just queried your first API programmatically in Python and printed the text of the response to the shell. However, as you know, your response is actually a JSON, so you can do one step better and decode the JSON. You can then print the key-value pairs of the resulting dictionary. That's what you're going to do now!"
      ]
    },
    {
      "cell_type": "code",
      "metadata": {
        "colab": {
          "base_uri": "https://localhost:8080/"
        },
        "id": "4AqnqP_XNKEW",
        "outputId": "a4e8fec1-dcfe-45e3-979b-502e6284f8a8"
      },
      "source": [
        "# Import package\n",
        "import requests\n",
        "\n",
        "# Assign URL to variable: url\n",
        "url = 'http://www.omdbapi.com/?apikey=72bc447a&t=social+network'\n",
        "\n",
        "# Package the request, send the request and catch the response: r\n",
        "r = requests.get(url)\n",
        "\n",
        "# Decode the JSON data into a dictionary: json_data\n",
        "json_data = r.json()\n",
        "\n",
        "# Print each key-value pair in json_data\n",
        "for k in json_data.keys():\n",
        "    print(k + ': ', json_data[k])\n"
      ],
      "execution_count": 11,
      "outputs": [
        {
          "output_type": "stream",
          "text": [
            "Title:  The Social Network\n",
            "Year:  2010\n",
            "Rated:  PG-13\n",
            "Released:  01 Oct 2010\n",
            "Runtime:  120 min\n",
            "Genre:  Biography, Drama\n",
            "Director:  David Fincher\n",
            "Writer:  Aaron Sorkin, Ben Mezrich\n",
            "Actors:  Jesse Eisenberg, Andrew Garfield, Justin Timberlake\n",
            "Plot:  As Harvard student Mark Zuckerberg creates the social networking site that would become known as Facebook, he is sued by the twins who claimed he stole their idea, and by the co-founder who was later squeezed out of the business.\n",
            "Language:  English, French\n",
            "Country:  United States\n",
            "Awards:  Won 3 Oscars. 172 wins & 186 nominations total\n",
            "Poster:  https://m.media-amazon.com/images/M/MV5BOGUyZDUxZjEtMmIzMC00MzlmLTg4MGItZWJmMzBhZjE0Mjc1XkEyXkFqcGdeQXVyMTMxODk2OTU@._V1_SX300.jpg\n",
            "Ratings:  [{'Source': 'Internet Movie Database', 'Value': '7.7/10'}, {'Source': 'Rotten Tomatoes', 'Value': '96%'}, {'Source': 'Metacritic', 'Value': '95/100'}]\n",
            "Metascore:  95\n",
            "imdbRating:  7.7\n",
            "imdbVotes:  645,042\n",
            "imdbID:  tt1285016\n",
            "Type:  movie\n",
            "DVD:  05 Jun 2012\n",
            "BoxOffice:  $96,962,694\n",
            "Production:  Scott Rudin Productions, Trigger Street Productions, Michael De Luca\n",
            "Website:  N/A\n",
            "Response:  True\n"
          ],
          "name": "stdout"
        }
      ]
    },
    {
      "cell_type": "markdown",
      "metadata": {
        "id": "DKnfx7X-NXe_"
      },
      "source": [
        "## Checking out the Wikipedia API\n",
        "\n",
        "You're doing so well and having so much fun that we're going to throw one more API at you: the Wikipedia API (documented here). You'll figure out how to find and extract information from the Wikipedia page for Pizza. What gets a bit wild here is that your query will return nested JSONs, that is, JSONs with JSONs, but Python can handle that because it will translate them into dictionaries within dictionaries.\n",
        "\n",
        "The URL that requests the relevant query from the Wikipedia API is\n",
        "\n",
        "https://en.wikipedia.org/w/api.php?action=query&prop=extracts&format=json&exintro=&titles=pizza\n",
        "\n"
      ]
    },
    {
      "cell_type": "code",
      "metadata": {
        "colab": {
          "base_uri": "https://localhost:8080/"
        },
        "id": "r_SWaBNxNbMU",
        "outputId": "f7461bfe-3ad2-4581-ad24-be0503e0230c"
      },
      "source": [
        "# Import package\n",
        "import requests\n",
        "\n",
        "# Assign URL to variable: url\n",
        "url = 'https://en.wikipedia.org/w/api.php?action=query&prop=extracts&format=json&exintro=&titles=pizza'\n",
        "\n",
        "# Package the request, send the request and catch the response: r\n",
        "r = requests.get(url)\n",
        "\n",
        "# Decode the JSON data into a dictionary: json_data\n",
        "json_data = r.json()\n",
        "\n",
        "# Print the Wikipedia page extract\n",
        "pizza_extract = json_data['query']['pages']['24768']['extract']\n",
        "print(pizza_extract)\n"
      ],
      "execution_count": 12,
      "outputs": [
        {
          "output_type": "stream",
          "text": [
            "<link rel=\"mw-deduplicated-inline-style\" href=\"mw-data:TemplateStyles:r1033289096\">\n",
            "<p class=\"mw-empty-elt\">\n",
            "</p>\n",
            "<p><b>Pizza</b> (<small>Italian: </small><span title=\"Representation in the International Phonetic Alphabet (IPA)\">[ˈpittsa]</span>, <small>Neapolitan: </small><span title=\"Representation in the International Phonetic Alphabet (IPA)\">[ˈpittsə]</span>) is an Italian dish consisting of a usually round, flattened base of leavened wheat-based dough topped with tomatoes, cheese, and often various other ingredients (such as anchovies, mushrooms, onions, olives, pineapple, meat, etc.), which is then baked at a high temperature, traditionally in a wood-fired oven. A small pizza is sometimes called a pizzetta. A person who makes pizza is known as a <b>pizzaiolo</b>.\n",
            "</p><p>In Italy, pizza served in formal settings, such as at a restaurant, is presented unsliced, and is eaten with the use of a knife and fork. In casual settings, however, it is cut into wedges to be eaten while held in the hand.\n",
            "</p><p>The term <i>pizza</i> was first recorded in the 10th century in a Latin manuscript from the Southern Italian town of Gaeta in Lazio, on the border with Campania. Modern pizza was invented in Naples, and the dish and its variants have since become popular in many countries. It has become one of the most popular foods in the world and a common fast food item in Europe and North America, available at pizzerias (restaurants specializing in pizza),  restaurants offering Mediterranean cuisine, and via pizza delivery. Many companies sell ready-baked frozen pizzas to be reheated in an ordinary home oven.\n",
            "</p><p>The <i>Associazione Verace Pizza Napoletana</i> (lit. True Neapolitan Pizza Association) is a non-profit organization founded in 1984 with headquarters in Naples that aims to promote traditional Neapolitan pizza. In 2009, upon Italy's request, Neapolitan pizza was registered with the European Union as a Traditional Speciality Guaranteed dish, and in 2017 the art of its making was included on UNESCO's list of intangible cultural heritage.</p>\n",
            "\n",
            "<!-- \n",
            "NewPP limit report\n",
            "Parsed by mw2283\n",
            "Cached time: 20210805101713\n",
            "Cache expiry: 1814400\n",
            "Reduced expiry: false\n",
            "Complications: [vary‐revision‐exists, vary‐revision‐sha1]\n",
            "CPU time usage: 0.534 seconds\n",
            "Real time usage: 0.706 seconds\n",
            "Preprocessor visited node count: 1047/1000000\n",
            "Post‐expand include size: 41763/2097152 bytes\n",
            "Template argument size: 1240/2097152 bytes\n",
            "Highest expansion depth: 17/40\n",
            "Expensive parser function count: 3/500\n",
            "Unstrip recursion depth: 0/20\n",
            "Unstrip post‐expand size: 18852/5000000 bytes\n",
            "Lua time usage: 0.328/10.000 seconds\n",
            "Lua memory usage: 5233894/52428800 bytes\n",
            "Number of Wikibase entities loaded: 1/400\n",
            "-->\n",
            "<!--\n",
            "Transclusion expansion time report (%,ms,calls,template)\n",
            "100.00%  654.808      1 -total\n",
            " 24.54%  160.666      1 Template:OED\n",
            " 16.23%  106.294      1 Template:Infobox_food\n",
            " 14.57%   95.383      1 Template:Infobox\n",
            " 12.40%   81.215      1 Template:Short_description\n",
            " 12.19%   79.837      1 Template:Pizza\n",
            " 11.61%   76.056      1 Template:Sidebar_with_collapsible_lists\n",
            "  9.99%   65.445      1 Template:Unbulleted_list\n",
            "  8.78%   57.475      1 Template:Pp-semi-indef\n",
            "  7.25%   47.462      1 Template:Pagetype\n",
            "-->\n"
          ],
          "name": "stdout"
        }
      ]
    }
  ]
}