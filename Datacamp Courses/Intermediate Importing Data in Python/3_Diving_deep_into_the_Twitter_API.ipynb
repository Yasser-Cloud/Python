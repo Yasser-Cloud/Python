{
  "nbformat": 4,
  "nbformat_minor": 0,
  "metadata": {
    "colab": {
      "name": "3- Diving deep into the Twitter API.ipynb",
      "provenance": []
    },
    "kernelspec": {
      "name": "python3",
      "display_name": "Python 3"
    },
    "language_info": {
      "name": "python"
    }
  },
  "cells": [
    {
      "cell_type": "markdown",
      "metadata": {
        "id": "ZE7Yzqj8OItV"
      },
      "source": [
        "## API Authentication\n",
        "\n",
        "The package tweepy is great at handling all the Twitter API OAuth Authentication details for you. All you need to do is pass it your authentication credentials. In this interactive exercise, we have created some mock authentication credentials (if you wanted to replicate this at home, you would need to create a Twitter App as Hugo detailed in the video). Your task is to pass these credentials to tweepy's OAuth handler."
      ]
    },
    {
      "cell_type": "code",
      "metadata": {
        "id": "XHwqbm2bOI4m"
      },
      "source": [
        "# Import package\n",
        "import tweepy\n",
        "\n",
        "# Store OAuth authentication credentials in relevant variables\n",
        "access_token = \"1092294848-aHN7DcRP9B4VMTQIhwqOYiB14YkW92fFO8k8EPy\"\n",
        "access_token_secret = \"X4dHmhPfaksHcQ7SCbmZa2oYBBVSD2g8uIHXsp5CTaksx\"\n",
        "consumer_key = \"nZ6EA0FxZ293SxGNg8g8aP0HM\"\n",
        "consumer_secret = \"fJGEodwe3KiKUnsYJC3VRndj7jevVvXbK2D5EiJ2nehafRgA6i\"\n",
        "\n",
        "# Pass OAuth details to tweepy's OAuth handler\n",
        "auth = tweepy.OAuthHandler(consumer_key, consumer_secret)\n",
        "auth.set_access_token(access_token,access_token_secret)\n"
      ],
      "execution_count": 53,
      "outputs": []
    },
    {
      "cell_type": "markdown",
      "metadata": {
        "id": "_FIU2O2KSrrF"
      },
      "source": [
        "## Streaming tweets\n",
        "\n",
        "Now that you have set up your authentication credentials, it is time to stream some tweets! We have already defined the tweet stream listener class, MyStreamListener, just as Hugo did in the introductory video. You can find the code for the tweet stream listener class here.\n",
        "\n",
        "Your task is to create the Streamobject and to filter tweets according to particular keywords."
      ]
    },
    {
      "cell_type": "code",
      "metadata": {
        "cellView": "form",
        "id": "g2LVinF9THlj"
      },
      "source": [
        "#@title  MyStreamListener\n",
        "class MyStreamListener(tweepy.StreamListener):\n",
        "  def __init__(self, api=None):        \n",
        "    super(MyStreamListener, self).__init__()        \n",
        "    self.num_tweets = 0        \n",
        "    self.file = open(\"tweet.txt\", \"w\")\n",
        "  def on_status(self, status):        \n",
        "    tweet = status._json        \n",
        "    self.file.write(json.dumps(tweet) + '\\\\n')        \n",
        "    tweet_list.append(status)        \n",
        "    self.num_tweets += 1\n",
        "    if self.num_tweets < 100:\n",
        "      return True\n",
        "    else:\n",
        "      return False        \n",
        "      self.file.close()"
      ],
      "execution_count": 54,
      "outputs": []
    },
    {
      "cell_type": "code",
      "metadata": {
        "id": "7UONoeiWSsB9"
      },
      "source": [
        "# Initialize Stream listener\n",
        "l = MyStreamListener()\n",
        "\n",
        "# Create your Stream object with authentication\n",
        "stream = tweepy.Stream(auth, l)\n",
        "\n",
        "# Filter Twitter Streams to capture data by the keywords:\n",
        "stream.filter(['clinton', 'trump', 'sanders', 'cruz'])"
      ],
      "execution_count": 55,
      "outputs": []
    },
    {
      "cell_type": "markdown",
      "metadata": {
        "id": "26yGrEenT5ty"
      },
      "source": [
        "## Load and explore your Twitter data\n",
        "\n",
        "Now that you've got your Twitter data sitting locally in a text file, it's time to explore it! This is what you'll do in the next few interactive exercises. In this exercise, you'll read the Twitter data into a list: tweets_data.\n",
        "\n",
        "Be aware that this is real data from Twitter and as such there is always a risk that it may contain profanity or other offensive content (in this exercise, and any following exercises that also use real Twitter data)."
      ]
    },
    {
      "cell_type": "code",
      "metadata": {
        "colab": {
          "base_uri": "https://localhost:8080/"
        },
        "id": "hIfTzHpoT59y",
        "outputId": "844f937d-1c9e-4de0-f1c8-540557b3f7e8"
      },
      "source": [
        "# Import package\n",
        "import json\n",
        "\n",
        "# String of path to file: tweets_data_path\n",
        "tweets_data_path = 'tweets.txt'\n",
        "\n",
        "# Initialize empty list to store tweets: tweets_data\n",
        "tweets_data = []\n",
        "\n",
        "# Open connection to file\n",
        "tweets_file = open(tweets_data_path, \"r\")\n",
        "\n",
        "# Read in tweets and store in list: tweets_data\n",
        "for line in tweets_file:\n",
        "    tweet = json.loads(line)\n",
        "    tweets_data.append(tweet)\n",
        "    \n",
        "# Close connection to file\n",
        "tweets_file.close()\n",
        "\n",
        "# Print the keys of the first tweet dict\n",
        "print(tweets_data[0].keys())\n"
      ],
      "execution_count": 56,
      "outputs": [
        {
          "output_type": "stream",
          "text": [
            "dict_keys(['in_reply_to_user_id', 'created_at', 'filter_level', 'truncated', 'possibly_sensitive', 'timestamp_ms', 'user', 'text', 'extended_entities', 'in_reply_to_status_id', 'entities', 'favorited', 'retweeted', 'is_quote_status', 'id', 'favorite_count', 'retweeted_status', 'in_reply_to_status_id_str', 'in_reply_to_user_id_str', 'id_str', 'in_reply_to_screen_name', 'coordinates', 'lang', 'place', 'contributors', 'geo', 'retweet_count', 'source'])\n"
          ],
          "name": "stdout"
        }
      ]
    },
    {
      "cell_type": "markdown",
      "metadata": {
        "id": "zGKNW8P3UKPp"
      },
      "source": [
        "## Twitter data to DataFrame\n",
        "\n",
        "Now you have the Twitter data in a list of dictionaries, tweets_data, where each dictionary corresponds to a single tweet. Next, you're going to extract the text and language of each tweet. The text in a tweet, t1, is stored as the value t1['text']; similarly, the language is stored in t1['lang']. Your task is to build a DataFrame in which each row is a tweet and the columns are 'text' and 'lang'."
      ]
    },
    {
      "cell_type": "code",
      "metadata": {
        "colab": {
          "base_uri": "https://localhost:8080/"
        },
        "id": "dUeeXE9wUOpk",
        "outputId": "c24bd49b-6c5f-46d9-bee2-0dd59252474f"
      },
      "source": [
        "# Import package\n",
        "import pandas as pd\n",
        "\n",
        "# Build DataFrame of tweet texts and languages\n",
        "df = pd.DataFrame(tweets_data, columns=['text' , 'lang'])\n",
        "\n",
        "# Print head of DataFrame\n",
        "print(df.head())\n"
      ],
      "execution_count": 57,
      "outputs": [
        {
          "output_type": "stream",
          "text": [
            "                                                text lang\n",
            "0  RT @bpolitics: .@krollbondrating's Christopher...   en\n",
            "1  RT @HeidiAlpine: @dmartosko Cruz video found.....   en\n",
            "2  Njihuni me Zonjën Trump !!! | Ekskluzive https...   et\n",
            "3  Your an idiot she shouldn't have tried to grab...   en\n",
            "4  RT @AlanLohner: The anti-American D.C. elites ...   en\n"
          ],
          "name": "stdout"
        }
      ]
    },
    {
      "cell_type": "markdown",
      "metadata": {
        "id": "uM7J132pY34l"
      },
      "source": [
        "## A little bit of Twitter text analysis\n",
        "\n",
        "Now that you have your DataFrame of tweets set up, you're going to do a bit of text analysis to count how many tweets contain the words 'clinton', 'trump', 'sanders' and 'cruz'. In the pre-exercise code, we have defined the following function word_in_text(), which will tell you whether the first argument (a word) occurs within the 2nd argument (a tweet).\n",
        "\n",
        "```\n",
        "import re\n",
        "\n",
        "def word_in_text(word, text):\n",
        "    word = word.lower()\n",
        "    text = text.lower()\n",
        "    match = re.search(word, text)\n",
        "\n",
        "    if match:\n",
        "        return True\n",
        "    return False\n",
        "```\n",
        "You're going to iterate over the rows of the DataFrame and calculate how many tweets contain each of our keywords! The list of objects for each candidate has been initialized to 0.\n",
        "\n"
      ]
    },
    {
      "cell_type": "code",
      "metadata": {
        "cellView": "form",
        "id": "jp_xt0ctZX4b"
      },
      "source": [
        "#@title word_in_text()\n",
        "import re\n",
        " \n",
        "def word_in_text(word, text):\n",
        "    word = word.lower()\n",
        "    text = text.lower()\n",
        "    match = re.search(word, text)\n",
        " \n",
        "    if match:\n",
        "        return True\n",
        "    return False"
      ],
      "execution_count": 58,
      "outputs": []
    },
    {
      "cell_type": "code",
      "metadata": {
        "id": "DMk4MoQ9ZGPa"
      },
      "source": [
        "# Initialize list to store tweet counts\n",
        "[clinton, trump, sanders, cruz] = [0, 0, 0, 0]\n",
        "\n",
        "# Iterate through df, counting the number of tweets in which\n",
        "# each candidate is mentioned\n",
        "for index, row in df.iterrows():\n",
        "    clinton += word_in_text('clinton', row['text'])\n",
        "    trump += word_in_text('trump',  row['text'])\n",
        "    sanders += word_in_text('sanders',  row['text'])\n",
        "    cruz += word_in_text('cruz',  row['text'])\n"
      ],
      "execution_count": 59,
      "outputs": []
    },
    {
      "cell_type": "markdown",
      "metadata": {
        "id": "3J3OragEZkmc"
      },
      "source": [
        "## Plotting your Twitter data\n",
        "\n",
        "Now that you have the number of tweets that each candidate was mentioned in, you can plot a bar chart of this data. You'll use the statistical data visualization library seaborn, which you may not have seen before, but we'll guide you through. You'll first import seaborn as sns. You'll then construct a barplot of the data using sns.barplot, passing it two arguments:\n",
        "\n",
        "1.   a list of labels and\n",
        "2.   a list containing the variables you wish to plot (clinton, trump and so on.)\n",
        "\n",
        "\n",
        "\n",
        "\n",
        "Hopefully, you'll see that Trump was unreasonably represented! We have already run the previous exercise solutions in your environment."
      ]
    },
    {
      "cell_type": "code",
      "metadata": {
        "colab": {
          "base_uri": "https://localhost:8080/",
          "height": 327
        },
        "id": "eXezoe1OZubB",
        "outputId": "611e5546-c366-4796-d4be-7eca8d98dae3"
      },
      "source": [
        "# Import packages\n",
        "import matplotlib.pyplot as plt\n",
        "import seaborn as sns\n",
        "\n",
        "\n",
        "# Set seaborn style\n",
        "sns.set(color_codes=True)\n",
        "\n",
        "# Create a list of labels:cd\n",
        "cd = ['clinton', 'trump', 'sanders', 'cruz']\n",
        "\n",
        "# Plot the bar chart\n",
        "ax = sns.barplot(cd, [clinton, trump, sanders, cruz])\n",
        "ax.set(ylabel=\"count\")\n",
        "plt.show()\n"
      ],
      "execution_count": 60,
      "outputs": [
        {
          "output_type": "stream",
          "text": [
            "/usr/local/lib/python3.7/dist-packages/seaborn/_decorators.py:43: FutureWarning: Pass the following variables as keyword args: x, y. From version 0.12, the only valid positional argument will be `data`, and passing other arguments without an explicit keyword will result in an error or misinterpretation.\n",
            "  FutureWarning\n"
          ],
          "name": "stderr"
        },
        {
          "output_type": "display_data",
          "data": {
            "image/png": "[encoded data removed]",
            "text/plain": [
              "<Figure size 432x288 with 1 Axes>"
            ]
          },
          "metadata": {
            "tags": []
          }
        }
      ]
    }
  ]
}