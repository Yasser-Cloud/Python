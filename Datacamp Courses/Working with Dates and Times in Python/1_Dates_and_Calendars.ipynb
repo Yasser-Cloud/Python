{
  "nbformat": 4,
  "nbformat_minor": 0,
  "metadata": {
    "colab": {
      "name": "1- Dates and Calendars.ipynb",
      "provenance": []
    },
    "kernelspec": {
      "name": "python3",
      "display_name": "Python 3"
    },
    "language_info": {
      "name": "python"
    }
  },
  "cells": [
    {
      "cell_type": "markdown",
      "metadata": {
        "id": "jjXlv3jQ6Fg6"
      },
      "source": [
        "## Which day of the week?\n",
        "\n",
        "Hurricane Andrew, which hit Florida on August 24, 1992, was one of the costliest and deadliest hurricanes in US history. Which day of the week did it make landfall?\n",
        "\n",
        "Let's walk through all of the steps to figure this out."
      ]
    },
    {
      "cell_type": "code",
      "metadata": {
        "colab": {
          "base_uri": "https://localhost:8080/"
        },
        "id": "X-izkU8955Pn",
        "outputId": "6ec97538-b499-43bf-df55-f255fffb908f"
      },
      "source": [
        "# Import date from datetime\n",
        "from datetime import date\n",
        "\n",
        "# Create a date object\n",
        "hurricane_andrew = date(1992, 8, 24)\n",
        "\n",
        "# Which day of the week is the date?\n",
        "print(hurricane_andrew.weekday())"
      ],
      "execution_count": 13,
      "outputs": [
        {
          "output_type": "stream",
          "text": [
            "0\n"
          ],
          "name": "stdout"
        }
      ]
    },
    {
      "cell_type": "markdown",
      "metadata": {
        "id": "s5FVeZHL6ri0"
      },
      "source": [
        "## How many hurricanes come early?\n",
        "\n",
        "In this chapter, you will work with a list of the hurricanes that made landfall in Florida from 1950 to 2017. There were 235 in total. Check out the variable florida_hurricane_dates, which has all of these dates.\n",
        "\n",
        "Atlantic hurricane season officially begins on June 1. How many hurricanes since 1950 have made landfall in Florida before the official start of hurricane season?"
      ]
    },
    {
      "cell_type": "code",
      "metadata": {
        "cellView": "form",
        "id": "Sn63wXyE9iDQ"
      },
      "source": [
        "#@title florida_hurricane_dates\n",
        "import datetime\n",
        "florida_hurricane_dates = [datetime.date(1950, 8, 31),\n",
        " datetime.date(1950, 9, 5),\n",
        " datetime.date(1950, 10, 18),\n",
        " datetime.date(1950, 10, 21),\n",
        " datetime.date(1951, 5, 18),\n",
        " datetime.date(1951, 10, 2),\n",
        " datetime.date(1952, 2, 3),\n",
        " datetime.date(1952, 8, 30),\n",
        " datetime.date(1953, 6, 6),\n",
        " datetime.date(1953, 8, 29),\n",
        " datetime.date(1953, 9, 20),\n",
        " datetime.date(1953, 9, 26),\n",
        " datetime.date(1953, 10, 9),\n",
        " datetime.date(1955, 8, 21),\n",
        " datetime.date(1956, 7, 6),\n",
        " datetime.date(1956, 9, 24),\n",
        " datetime.date(1956, 10, 15),\n",
        " datetime.date(1957, 6, 8),\n",
        " datetime.date(1957, 9, 8),\n",
        " datetime.date(1958, 9, 4),\n",
        " datetime.date(1959, 6, 18),\n",
        " datetime.date(1959, 10, 8),\n",
        " datetime.date(1959, 10, 18),\n",
        " datetime.date(1960, 7, 29),\n",
        " datetime.date(1960, 9, 10),\n",
        " datetime.date(1960, 9, 15),\n",
        " datetime.date(1960, 9, 23),\n",
        " datetime.date(1961, 9, 11),\n",
        " datetime.date(1961, 10, 29),\n",
        " datetime.date(1962, 8, 26),\n",
        " datetime.date(1963, 10, 21),\n",
        " datetime.date(1964, 6, 6),\n",
        " datetime.date(1964, 8, 27),\n",
        " datetime.date(1964, 9, 10),\n",
        " datetime.date(1964, 9, 20),\n",
        " datetime.date(1964, 10, 5),\n",
        " datetime.date(1964, 10, 14),\n",
        " datetime.date(1965, 6, 15),\n",
        " datetime.date(1965, 9, 8),\n",
        " datetime.date(1965, 9, 30),\n",
        " datetime.date(1966, 6, 9),\n",
        " datetime.date(1966, 6, 30),\n",
        " datetime.date(1966, 7, 24),\n",
        " datetime.date(1966, 10, 4),\n",
        " datetime.date(1968, 6, 4),\n",
        " datetime.date(1968, 6, 18),\n",
        " datetime.date(1968, 7, 5),\n",
        " datetime.date(1968, 8, 10),\n",
        " datetime.date(1968, 8, 28),\n",
        " datetime.date(1968, 9, 26),\n",
        " datetime.date(1968, 10, 19),\n",
        " datetime.date(1969, 6, 9),\n",
        " datetime.date(1969, 8, 18),\n",
        " datetime.date(1969, 8, 29),\n",
        " datetime.date(1969, 9, 7),\n",
        " datetime.date(1969, 9, 21),\n",
        " datetime.date(1969, 10, 1),\n",
        " datetime.date(1969, 10, 2),\n",
        " datetime.date(1969, 10, 21),\n",
        " datetime.date(1970, 5, 25),\n",
        " datetime.date(1970, 7, 22),\n",
        " datetime.date(1970, 8, 6),\n",
        " datetime.date(1970, 9, 13),\n",
        " datetime.date(1970, 9, 27),\n",
        " datetime.date(1971, 8, 10),\n",
        " datetime.date(1971, 8, 13),\n",
        " datetime.date(1971, 8, 29),\n",
        " datetime.date(1971, 9, 1),\n",
        " datetime.date(1971, 9, 16),\n",
        " datetime.date(1971, 10, 13),\n",
        " datetime.date(1972, 5, 28),\n",
        " datetime.date(1972, 6, 19),\n",
        " datetime.date(1972, 9, 5),\n",
        " datetime.date(1973, 6, 7),\n",
        " datetime.date(1973, 6, 23),\n",
        " datetime.date(1973, 9, 3),\n",
        " datetime.date(1973, 9, 25),\n",
        " datetime.date(1974, 6, 25),\n",
        " datetime.date(1974, 9, 8),\n",
        " datetime.date(1974, 9, 27),\n",
        " datetime.date(1974, 10, 7),\n",
        " datetime.date(1975, 6, 27),\n",
        " datetime.date(1975, 7, 29),\n",
        " datetime.date(1975, 9, 23),\n",
        " datetime.date(1975, 10, 1),\n",
        " datetime.date(1975, 10, 16),\n",
        " datetime.date(1976, 5, 23),\n",
        " datetime.date(1976, 6, 11),\n",
        " datetime.date(1976, 8, 19),\n",
        " datetime.date(1976, 9, 13),\n",
        " datetime.date(1977, 8, 27),\n",
        " datetime.date(1977, 9, 5),\n",
        " datetime.date(1978, 6, 22),\n",
        " datetime.date(1979, 7, 11),\n",
        " datetime.date(1979, 9, 3),\n",
        " datetime.date(1979, 9, 12),\n",
        " datetime.date(1979, 9, 24),\n",
        " datetime.date(1980, 8, 7),\n",
        " datetime.date(1980, 11, 18),\n",
        " datetime.date(1981, 8, 17),\n",
        " datetime.date(1982, 6, 18),\n",
        " datetime.date(1982, 9, 11),\n",
        " datetime.date(1983, 8, 28),\n",
        " datetime.date(1984, 9, 9),\n",
        " datetime.date(1984, 9, 27),\n",
        " datetime.date(1984, 10, 26),\n",
        " datetime.date(1985, 7, 23),\n",
        " datetime.date(1985, 8, 15),\n",
        " datetime.date(1985, 10, 10),\n",
        " datetime.date(1985, 11, 21),\n",
        " datetime.date(1986, 6, 26),\n",
        " datetime.date(1986, 8, 13),\n",
        " datetime.date(1987, 8, 14),\n",
        " datetime.date(1987, 9, 7),\n",
        " datetime.date(1987, 10, 12),\n",
        " datetime.date(1987, 11, 4),\n",
        " datetime.date(1988, 5, 30),\n",
        " datetime.date(1988, 8, 4),\n",
        " datetime.date(1988, 8, 13),\n",
        " datetime.date(1988, 8, 23),\n",
        " datetime.date(1988, 9, 4),\n",
        " datetime.date(1988, 9, 10),\n",
        " datetime.date(1988, 9, 13),\n",
        " datetime.date(1988, 11, 23),\n",
        " datetime.date(1989, 9, 22),\n",
        " datetime.date(1990, 5, 25),\n",
        " datetime.date(1990, 10, 9),\n",
        " datetime.date(1990, 10, 12),\n",
        " datetime.date(1991, 6, 30),\n",
        " datetime.date(1991, 10, 16),\n",
        " datetime.date(1992, 6, 25),\n",
        " datetime.date(1992, 8, 24),\n",
        " datetime.date(1992, 9, 29),\n",
        " datetime.date(1993, 6, 1),\n",
        " datetime.date(1994, 7, 3),\n",
        " datetime.date(1994, 8, 15),\n",
        " datetime.date(1994, 10, 2),\n",
        " datetime.date(1994, 11, 16),\n",
        " datetime.date(1995, 6, 5),\n",
        " datetime.date(1995, 7, 27),\n",
        " datetime.date(1995, 8, 2),\n",
        " datetime.date(1995, 8, 23),\n",
        " datetime.date(1995, 10, 4),\n",
        " datetime.date(1996, 7, 11),\n",
        " datetime.date(1996, 9, 2),\n",
        " datetime.date(1996, 10, 8),\n",
        " datetime.date(1996, 10, 18),\n",
        " datetime.date(1997, 7, 19),\n",
        " datetime.date(1998, 9, 3),\n",
        " datetime.date(1998, 9, 20),\n",
        " datetime.date(1998, 9, 25),\n",
        " datetime.date(1998, 11, 5),\n",
        " datetime.date(1999, 8, 29),\n",
        " datetime.date(1999, 9, 15),\n",
        " datetime.date(1999, 9, 21),\n",
        " datetime.date(1999, 10, 15),\n",
        " datetime.date(2000, 8, 23),\n",
        " datetime.date(2000, 9, 9),\n",
        " datetime.date(2000, 9, 18),\n",
        " datetime.date(2000, 9, 22),\n",
        " datetime.date(2000, 10, 3),\n",
        " datetime.date(2001, 6, 12),\n",
        " datetime.date(2001, 8, 6),\n",
        " datetime.date(2001, 9, 14),\n",
        " datetime.date(2001, 11, 5),\n",
        " datetime.date(2002, 7, 13),\n",
        " datetime.date(2002, 8, 4),\n",
        " datetime.date(2002, 9, 4),\n",
        " datetime.date(2002, 9, 14),\n",
        " datetime.date(2002, 9, 26),\n",
        " datetime.date(2002, 10, 3),\n",
        " datetime.date(2002, 10, 11),\n",
        " datetime.date(2003, 4, 20),\n",
        " datetime.date(2003, 6, 30),\n",
        " datetime.date(2003, 7, 25),\n",
        " datetime.date(2003, 8, 14),\n",
        " datetime.date(2003, 8, 30),\n",
        " datetime.date(2003, 9, 6),\n",
        " datetime.date(2003, 9, 13),\n",
        " datetime.date(2004, 8, 12),\n",
        " datetime.date(2004, 8, 13),\n",
        " datetime.date(2004, 9, 5),\n",
        " datetime.date(2004, 9, 13),\n",
        " datetime.date(2004, 9, 16),\n",
        " datetime.date(2004, 10, 10),\n",
        " datetime.date(2005, 6, 11),\n",
        " datetime.date(2005, 7, 6),\n",
        " datetime.date(2005, 7, 10),\n",
        " datetime.date(2005, 8, 25),\n",
        " datetime.date(2005, 9, 12),\n",
        " datetime.date(2005, 9, 20),\n",
        " datetime.date(2005, 10, 5),\n",
        " datetime.date(2005, 10, 24),\n",
        " datetime.date(2006, 6, 13),\n",
        " datetime.date(2006, 8, 30),\n",
        " datetime.date(2007, 5, 9),\n",
        " datetime.date(2007, 6, 2),\n",
        " datetime.date(2007, 8, 23),\n",
        " datetime.date(2007, 9, 8),\n",
        " datetime.date(2007, 9, 13),\n",
        " datetime.date(2007, 9, 22),\n",
        " datetime.date(2007, 10, 31),\n",
        " datetime.date(2007, 12, 13),\n",
        " datetime.date(2008, 7, 16),\n",
        " datetime.date(2008, 7, 22),\n",
        " datetime.date(2008, 8, 18),\n",
        " datetime.date(2008, 8, 31),\n",
        " datetime.date(2008, 9, 2),\n",
        " datetime.date(2009, 8, 16),\n",
        " datetime.date(2009, 8, 21),\n",
        " datetime.date(2009, 11, 9),\n",
        " datetime.date(2010, 6, 30),\n",
        " datetime.date(2010, 7, 23),\n",
        " datetime.date(2010, 8, 10),\n",
        " datetime.date(2010, 8, 31),\n",
        " datetime.date(2010, 9, 29),\n",
        " datetime.date(2011, 7, 18),\n",
        " datetime.date(2011, 8, 25),\n",
        " datetime.date(2011, 9, 3),\n",
        " datetime.date(2011, 10, 28),\n",
        " datetime.date(2011, 11, 9),\n",
        " datetime.date(2012, 5, 28),\n",
        " datetime.date(2012, 6, 23),\n",
        " datetime.date(2012, 8, 25),\n",
        " datetime.date(2012, 10, 25),\n",
        " datetime.date(2015, 8, 30),\n",
        " datetime.date(2015, 10, 1),\n",
        " datetime.date(2016, 6, 6),\n",
        " datetime.date(2016, 9, 1),\n",
        " datetime.date(2016, 9, 14),\n",
        " datetime.date(2016, 10, 7),\n",
        " datetime.date(2017, 6, 21),\n",
        " datetime.date(2017, 7, 31),\n",
        " datetime.date(2017, 9, 10),\n",
        " datetime.date(2017, 10, 29)]"
      ],
      "execution_count": 14,
      "outputs": []
    },
    {
      "cell_type": "code",
      "metadata": {
        "colab": {
          "base_uri": "https://localhost:8080/"
        },
        "id": "-XGVT6Up6toW",
        "outputId": "3c04422d-dfd9-4965-d884-c42a28bd2031"
      },
      "source": [
        "# Counter for how many before June 1\n",
        "early_hurricanes = 0\n",
        "\n",
        "# We loop over the dates\n",
        "for hurricane in florida_hurricane_dates:\n",
        "  # Check if the month is before June (month number 6)\n",
        "  if hurricane.month < 6:\n",
        "    early_hurricanes = early_hurricanes + 1\n",
        "    \n",
        "print(early_hurricanes)"
      ],
      "execution_count": 15,
      "outputs": [
        {
          "output_type": "stream",
          "text": [
            "10\n"
          ],
          "name": "stdout"
        }
      ]
    },
    {
      "cell_type": "markdown",
      "metadata": {
        "id": "S7g34KTs7Hma"
      },
      "source": [
        "## Subtracting dates\n",
        "\n",
        "Python date objects let us treat calendar dates as something similar to numbers: we can compare them, sort them, add, and even subtract them. This lets us do math with dates in a way that would be a pain to do by hand.\n",
        "\n",
        "The 2007 Florida hurricane season was one of the busiest on record, with 8 hurricanes in one year. The first one hit on May 9th, 2007, and the last one hit on December 13th, 2007. How many days elapsed between the first and last hurricane in 2007?"
      ]
    },
    {
      "cell_type": "code",
      "metadata": {
        "colab": {
          "base_uri": "https://localhost:8080/"
        },
        "id": "x_pHiU-w6t8n",
        "outputId": "f38d0177-4596-478b-aae3-639f756c3f45"
      },
      "source": [
        "# Import date\n",
        "from datetime import date\n",
        "\n",
        "# Create a date object for May 9th, 2007\n",
        "start = date(2007, 5, 9)\n",
        "\n",
        "# Create a date object for December 13th, 2007\n",
        "end = date(2007, 12, 13)\n",
        "\n",
        "# Subtract the two dates and print the number of days\n",
        "print((end - start).days)"
      ],
      "execution_count": 16,
      "outputs": [
        {
          "output_type": "stream",
          "text": [
            "218\n"
          ],
          "name": "stdout"
        }
      ]
    },
    {
      "cell_type": "markdown",
      "metadata": {
        "id": "xvkAaj3_7H4O"
      },
      "source": [
        "## Counting events per calendar month\n",
        "\n",
        "Hurricanes can make landfall in Florida throughout the year. As we've already discussed, some months are more hurricane-prone than others.\n",
        "\n",
        "Using florida_hurricane_dates, let's see how hurricanes in Florida were distributed across months throughout the year.\n",
        "\n",
        "We've created a dictionary called hurricanes_each_month to hold your counts and set the initial counts to zero. You will loop over the list of hurricanes, incrementing the correct month in hurricanes_each_month as you go, and then print the result."
      ]
    },
    {
      "cell_type": "code",
      "metadata": {
        "colab": {
          "base_uri": "https://localhost:8080/"
        },
        "id": "RaxMIOJS73Oe",
        "outputId": "9235dad4-5c54-4a4e-8970-4c54c20643aa"
      },
      "source": [
        "# A dictionary to count hurricanes per calendar month\n",
        "hurricanes_each_month = {1: 0, 2: 0, 3: 0, 4: 0, 5: 0, 6:0,\n",
        "\t\t  \t\t\t\t 7: 0, 8:0, 9:0, 10:0, 11:0, 12:0}\n",
        "\n",
        "# Loop over all hurricanes\n",
        "for hurricane in florida_hurricane_dates:\n",
        "  # Pull out the month\n",
        "  month = hurricane.month\n",
        "  # Increment the count in your dictionary by one\n",
        "  hurricanes_each_month[month] +=1\n",
        "  \n",
        "print(hurricanes_each_month)"
      ],
      "execution_count": 17,
      "outputs": [
        {
          "output_type": "stream",
          "text": [
            "{1: 0, 2: 1, 3: 0, 4: 1, 5: 8, 6: 32, 7: 21, 8: 49, 9: 70, 10: 43, 11: 9, 12: 1}\n"
          ],
          "name": "stdout"
        }
      ]
    },
    {
      "cell_type": "markdown",
      "metadata": {
        "id": "Th4hHvOf8A8l"
      },
      "source": [
        "## Putting a list of dates in order\n",
        "\n",
        "Much like numbers and strings, date objects in Python can be put in order. Earlier dates come before later ones, and so we can sort a list of date objects from earliest to latest.\n",
        "\n",
        "What if our Florida hurricane dates had been scrambled? We've gone ahead and shuffled them so they're in random order and saved the results as dates_scrambled. Your job is to put them back in chronological order, and then print the first and last dates from this sorted list."
      ]
    },
    {
      "cell_type": "code",
      "metadata": {
        "cellView": "form",
        "id": "UYNSiMv7-xpf"
      },
      "source": [
        "#@title dates_scrambled\n",
        "\n",
        "dates_scrambled = [datetime.date(1988, 8, 4),\n",
        " datetime.date(1990, 10, 12),\n",
        " datetime.date(2003, 4, 20),\n",
        " datetime.date(1971, 9, 1),\n",
        " datetime.date(1988, 8, 23),\n",
        " datetime.date(1994, 8, 15),\n",
        " datetime.date(2002, 8, 4),\n",
        " datetime.date(1988, 5, 30),\n",
        " datetime.date(2003, 9, 13),\n",
        " datetime.date(2009, 8, 21),\n",
        " datetime.date(1978, 6, 22),\n",
        " datetime.date(1969, 6, 9),\n",
        " datetime.date(1976, 6, 11),\n",
        " datetime.date(1976, 8, 19),\n",
        " datetime.date(1966, 6, 9),\n",
        " datetime.date(1968, 7, 5),\n",
        " datetime.date(1987, 11, 4),\n",
        " datetime.date(1988, 8, 13),\n",
        " datetime.date(2007, 12, 13),\n",
        " datetime.date(1994, 11, 16),\n",
        " datetime.date(2003, 9, 6),\n",
        " datetime.date(1971, 8, 13),\n",
        " datetime.date(1981, 8, 17),\n",
        " datetime.date(1998, 9, 25),\n",
        " datetime.date(1968, 9, 26),\n",
        " datetime.date(1968, 6, 4),\n",
        " datetime.date(1998, 11, 5),\n",
        " datetime.date(2008, 8, 18),\n",
        " datetime.date(1987, 8, 14),\n",
        " datetime.date(1988, 11, 23),\n",
        " datetime.date(2010, 9, 29),\n",
        " datetime.date(1985, 7, 23),\n",
        " datetime.date(2017, 7, 31),\n",
        " datetime.date(1955, 8, 21),\n",
        " datetime.date(1986, 6, 26),\n",
        " datetime.date(1963, 10, 21),\n",
        " datetime.date(2011, 10, 28),\n",
        " datetime.date(2011, 11, 9),\n",
        " datetime.date(1997, 7, 19),\n",
        " datetime.date(2007, 6, 2),\n",
        " datetime.date(2002, 9, 14),\n",
        " datetime.date(1992, 9, 29),\n",
        " datetime.date(1971, 10, 13),\n",
        " datetime.date(1962, 8, 26),\n",
        " datetime.date(1964, 8, 27),\n",
        " datetime.date(1984, 9, 27),\n",
        " datetime.date(1973, 9, 25),\n",
        " datetime.date(1969, 10, 21),\n",
        " datetime.date(1994, 7, 3),\n",
        " datetime.date(1958, 9, 4),\n",
        " datetime.date(1985, 11, 21),\n",
        " datetime.date(2011, 9, 3),\n",
        " datetime.date(1972, 6, 19),\n",
        " datetime.date(1991, 6, 30),\n",
        " datetime.date(2004, 8, 12),\n",
        " datetime.date(2007, 9, 8),\n",
        " datetime.date(1952, 2, 3),\n",
        " datetime.date(1965, 9, 30),\n",
        " datetime.date(2000, 9, 22),\n",
        " datetime.date(2002, 9, 26),\n",
        " datetime.date(1950, 9, 5),\n",
        " datetime.date(1966, 10, 4),\n",
        " datetime.date(1970, 5, 25),\n",
        " datetime.date(1979, 9, 24),\n",
        " datetime.date(1960, 9, 23),\n",
        " datetime.date(2007, 8, 23),\n",
        " datetime.date(2009, 8, 16),\n",
        " datetime.date(1996, 10, 18),\n",
        " datetime.date(2012, 10, 25),\n",
        " datetime.date(2011, 8, 25),\n",
        " datetime.date(1951, 5, 18),\n",
        " datetime.date(1980, 8, 7),\n",
        " datetime.date(1979, 9, 3),\n",
        " datetime.date(1953, 9, 26),\n",
        " datetime.date(1968, 10, 19),\n",
        " datetime.date(2009, 11, 9),\n",
        " datetime.date(1999, 8, 29),\n",
        " datetime.date(2015, 10, 1),\n",
        " datetime.date(2008, 9, 2),\n",
        " datetime.date(2004, 10, 10),\n",
        " datetime.date(2004, 9, 16),\n",
        " datetime.date(1992, 8, 24),\n",
        " datetime.date(2000, 9, 9),\n",
        " datetime.date(1971, 9, 16),\n",
        " datetime.date(1996, 9, 2),\n",
        " datetime.date(1998, 9, 3),\n",
        " datetime.date(1951, 10, 2),\n",
        " datetime.date(1979, 9, 12),\n",
        " datetime.date(2007, 10, 31),\n",
        " datetime.date(1953, 10, 9),\n",
        " datetime.date(1952, 8, 30),\n",
        " datetime.date(1969, 9, 7),\n",
        " datetime.date(2015, 8, 30),\n",
        " datetime.date(1959, 10, 8),\n",
        " datetime.date(2002, 7, 13),\n",
        " datetime.date(1961, 10, 29),\n",
        " datetime.date(2007, 5, 9),\n",
        " datetime.date(2016, 10, 7),\n",
        " datetime.date(1964, 9, 20),\n",
        " datetime.date(1979, 7, 11),\n",
        " datetime.date(1950, 10, 18),\n",
        " datetime.date(2008, 8, 31),\n",
        " datetime.date(2012, 8, 25),\n",
        " datetime.date(1966, 7, 24),\n",
        " datetime.date(2010, 8, 10),\n",
        " datetime.date(2005, 8, 25),\n",
        " datetime.date(2003, 6, 30),\n",
        " datetime.date(1956, 7, 6),\n",
        " datetime.date(1974, 9, 8),\n",
        " datetime.date(1966, 6, 30),\n",
        " datetime.date(2016, 9, 14),\n",
        " datetime.date(1968, 6, 18),\n",
        " datetime.date(1982, 9, 11),\n",
        " datetime.date(1976, 9, 13),\n",
        " datetime.date(1975, 7, 29),\n",
        " datetime.date(2007, 9, 13),\n",
        " datetime.date(1970, 9, 27),\n",
        " datetime.date(1969, 10, 2),\n",
        " datetime.date(2010, 8, 31),\n",
        " datetime.date(1995, 10, 4),\n",
        " datetime.date(1969, 8, 29),\n",
        " datetime.date(1984, 10, 26),\n",
        " datetime.date(1973, 9, 3),\n",
        " datetime.date(1976, 5, 23),\n",
        " datetime.date(2001, 11, 5),\n",
        " datetime.date(2010, 6, 30),\n",
        " datetime.date(1985, 10, 10),\n",
        " datetime.date(1970, 7, 22),\n",
        " datetime.date(1972, 5, 28),\n",
        " datetime.date(1982, 6, 18),\n",
        " datetime.date(2001, 8, 6),\n",
        " datetime.date(1953, 8, 29),\n",
        " datetime.date(1965, 9, 8),\n",
        " datetime.date(1964, 9, 10),\n",
        " datetime.date(1959, 10, 18),\n",
        " datetime.date(1957, 6, 8),\n",
        " datetime.date(1988, 9, 10),\n",
        " datetime.date(2005, 6, 11),\n",
        " datetime.date(1953, 6, 6),\n",
        " datetime.date(2003, 8, 30),\n",
        " datetime.date(2002, 10, 3),\n",
        " datetime.date(1968, 8, 10),\n",
        " datetime.date(1999, 10, 15),\n",
        " datetime.date(2002, 9, 4),\n",
        " datetime.date(2001, 6, 12),\n",
        " datetime.date(2017, 9, 10),\n",
        " datetime.date(2005, 10, 5),\n",
        " datetime.date(2005, 7, 10),\n",
        " datetime.date(1973, 6, 7),\n",
        " datetime.date(1999, 9, 15),\n",
        " datetime.date(2005, 9, 20),\n",
        " datetime.date(1995, 6, 5),\n",
        " datetime.date(2003, 7, 25),\n",
        " datetime.date(2004, 9, 13),\n",
        " datetime.date(1964, 6, 6),\n",
        " datetime.date(1973, 6, 23),\n",
        " datetime.date(2005, 9, 12),\n",
        " datetime.date(2012, 6, 23),\n",
        " datetime.date(1961, 9, 11),\n",
        " datetime.date(1990, 5, 25),\n",
        " datetime.date(2017, 6, 21),\n",
        " datetime.date(1975, 6, 27),\n",
        " datetime.date(1959, 6, 18),\n",
        " datetime.date(2004, 9, 5),\n",
        " datetime.date(1987, 10, 12),\n",
        " datetime.date(1995, 7, 27),\n",
        " datetime.date(1964, 10, 14),\n",
        " datetime.date(1970, 8, 6),\n",
        " datetime.date(1969, 10, 1),\n",
        " datetime.date(1996, 10, 8),\n",
        " datetime.date(1968, 8, 28),\n",
        " datetime.date(1956, 10, 15),\n",
        " datetime.date(1975, 9, 23),\n",
        " datetime.date(1970, 9, 13),\n",
        " datetime.date(1975, 10, 16),\n",
        " datetime.date(1990, 10, 9),\n",
        " datetime.date(2005, 10, 24),\n",
        " datetime.date(1950, 8, 31),\n",
        " datetime.date(2000, 10, 3),\n",
        " datetime.date(2002, 10, 11),\n",
        " datetime.date(1983, 8, 28),\n",
        " datetime.date(1960, 7, 29),\n",
        " datetime.date(1950, 10, 21),\n",
        " datetime.date(1995, 8, 2),\n",
        " datetime.date(1956, 9, 24),\n",
        " datetime.date(2016, 9, 1),\n",
        " datetime.date(1993, 6, 1),\n",
        " datetime.date(1987, 9, 7),\n",
        " datetime.date(2012, 5, 28),\n",
        " datetime.date(1995, 8, 23),\n",
        " datetime.date(1969, 8, 18),\n",
        " datetime.date(2001, 9, 14),\n",
        " datetime.date(2000, 8, 23),\n",
        " datetime.date(1974, 10, 7),\n",
        " datetime.date(1986, 8, 13),\n",
        " datetime.date(1977, 8, 27),\n",
        " datetime.date(2008, 7, 16),\n",
        " datetime.date(1996, 7, 11),\n",
        " datetime.date(1988, 9, 4),\n",
        " datetime.date(1975, 10, 1),\n",
        " datetime.date(2003, 8, 14),\n",
        " datetime.date(1957, 9, 8),\n",
        " datetime.date(2005, 7, 6),\n",
        " datetime.date(1960, 9, 15),\n",
        " datetime.date(1974, 9, 27),\n",
        " datetime.date(1965, 6, 15),\n",
        " datetime.date(1999, 9, 21),\n",
        " datetime.date(2004, 8, 13),\n",
        " datetime.date(1994, 10, 2),\n",
        " datetime.date(1971, 8, 10),\n",
        " datetime.date(2008, 7, 22),\n",
        " datetime.date(2000, 9, 18),\n",
        " datetime.date(1960, 9, 10),\n",
        " datetime.date(2006, 6, 13),\n",
        " datetime.date(2017, 10, 29),\n",
        " datetime.date(1972, 9, 5),\n",
        " datetime.date(1964, 10, 5),\n",
        " datetime.date(1991, 10, 16),\n",
        " datetime.date(1969, 9, 21),\n",
        " datetime.date(1998, 9, 20),\n",
        " datetime.date(1977, 9, 5),\n",
        " datetime.date(1988, 9, 13),\n",
        " datetime.date(1974, 6, 25),\n",
        " datetime.date(2010, 7, 23),\n",
        " datetime.date(2007, 9, 22),\n",
        " datetime.date(1984, 9, 9),\n",
        " datetime.date(1989, 9, 22),\n",
        " datetime.date(1992, 6, 25),\n",
        " datetime.date(1971, 8, 29),\n",
        " datetime.date(1953, 9, 20),\n",
        " datetime.date(1985, 8, 15),\n",
        " datetime.date(2016, 6, 6),\n",
        " datetime.date(2006, 8, 30),\n",
        " datetime.date(1980, 11, 18),\n",
        " datetime.date(2011, 7, 18)]"
      ],
      "execution_count": 18,
      "outputs": []
    },
    {
      "cell_type": "code",
      "metadata": {
        "colab": {
          "base_uri": "https://localhost:8080/"
        },
        "id": "z6kHcmsh8BUA",
        "outputId": "cb04275d-b21a-4622-8e18-6f3c64235e42"
      },
      "source": [
        "# Print the first and last scrambled dates\n",
        "print(dates_scrambled[0])\n",
        "print(dates_scrambled[-1])\n",
        "\n",
        "# Put the dates in order\n",
        "dates_ordered = sorted(dates_scrambled)\n",
        "\n",
        "# Print the first and last ordered dates\n",
        "print(dates_ordered[0])\n",
        "print(dates_ordered[-1])"
      ],
      "execution_count": 19,
      "outputs": [
        {
          "output_type": "stream",
          "text": [
            "1988-08-04\n",
            "2011-07-18\n",
            "1950-08-31\n",
            "2017-10-29\n"
          ],
          "name": "stdout"
        }
      ]
    },
    {
      "cell_type": "markdown",
      "metadata": {
        "id": "mvMu2cAf8BiN"
      },
      "source": [
        "## Printing dates in a friendly format\n",
        "\n",
        "Because people may want to see dates in many different formats, Python comes with very flexible functions for turning date objects into strings.\n",
        "\n",
        "Let's see what event was recorded first in the Florida hurricane data set. In this exercise, you will format the earliest date in the florida_hurriance_dates list in two ways so you can decide which one you want to use: either the ISO standard or the typical US style."
      ]
    },
    {
      "cell_type": "code",
      "metadata": {
        "colab": {
          "base_uri": "https://localhost:8080/"
        },
        "id": "qTREmZWX8Bu1",
        "outputId": "2ea3020a-70ab-400b-99cb-1ecb29cbac88"
      },
      "source": [
        "# Assign the earliest date to first_date\n",
        "first_date = min(florida_hurricane_dates)\n",
        "\n",
        "# Convert to ISO and US formats\n",
        "iso = \"Our earliest hurricane date: \" + first_date.isoformat()\n",
        "us = \"Our earliest hurricane date: \" + first_date.strftime(\"%m/%d/%Y\")\n",
        "\n",
        "print(\"ISO: \" + iso)\n",
        "print(\"US: \" + us)"
      ],
      "execution_count": 20,
      "outputs": [
        {
          "output_type": "stream",
          "text": [
            "ISO: Our earliest hurricane date: 1950-08-31\n",
            "US: Our earliest hurricane date: 08/31/1950\n"
          ],
          "name": "stdout"
        }
      ]
    },
    {
      "cell_type": "markdown",
      "metadata": {
        "id": "OrRrMJ_F8B60"
      },
      "source": [
        "## Representing dates in different ways\n",
        "\n",
        "date objects in Python have a great number of ways they can be printed out as strings. In some cases, you want to know the date in a clear, language-agnostic format. In other cases, you want something which can fit into a paragraph and flow naturally.\n",
        "\n",
        "Let's try printing out the same date, August 26, 1992 (the day that Hurricane Andrew made landfall in Florida), in a number of different ways, to practice using the .strftime() method.\n",
        "\n",
        "A date object called andrew has already been created."
      ]
    },
    {
      "cell_type": "code",
      "metadata": {
        "colab": {
          "base_uri": "https://localhost:8080/"
        },
        "id": "EI7-TjFJ8CFk",
        "outputId": "adfe4453-7de0-4aad-ba92-dc48b0e3f84e"
      },
      "source": [
        "# Import date\n",
        "from datetime import date\n",
        "\n",
        "# Create a date object\n",
        "andrew = date(1992, 8, 26)\n",
        "\n",
        "# Print the date in the format 'YYYY-MM'\n",
        "print(andrew.strftime('%Y-%m'))"
      ],
      "execution_count": 21,
      "outputs": [
        {
          "output_type": "stream",
          "text": [
            "1992-08\n"
          ],
          "name": "stdout"
        }
      ]
    },
    {
      "cell_type": "code",
      "metadata": {
        "colab": {
          "base_uri": "https://localhost:8080/"
        },
        "id": "5guFg1s382cW",
        "outputId": "62efee61-a2ba-4639-cb16-46071ac9ccf4"
      },
      "source": [
        "# Import date\n",
        "from datetime import date\n",
        "\n",
        "# Create a date object\n",
        "andrew = date(1992, 8, 26)\n",
        "\n",
        "# Print the date in the format 'MONTH (YYYY)'\n",
        "print(andrew.strftime('%B (%Y)'))"
      ],
      "execution_count": 22,
      "outputs": [
        {
          "output_type": "stream",
          "text": [
            "August (1992)\n"
          ],
          "name": "stdout"
        }
      ]
    },
    {
      "cell_type": "code",
      "metadata": {
        "colab": {
          "base_uri": "https://localhost:8080/"
        },
        "id": "GfZlscYr893E",
        "outputId": "63b4a42f-27e8-47e3-b2fc-c2e16a36d6f3"
      },
      "source": [
        "# Import date\n",
        "from datetime import date\n",
        "\n",
        "# Create a date object\n",
        "andrew = date(1992, 8, 26)\n",
        "\n",
        "# Print the date in the format 'YYYY-DDD'\n",
        "print(andrew.strftime('%Y-%j'))"
      ],
      "execution_count": 23,
      "outputs": [
        {
          "output_type": "stream",
          "text": [
            "1992-239\n"
          ],
          "name": "stdout"
        }
      ]
    }
  ]
}